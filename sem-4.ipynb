{
 "cells": [
  {
   "cell_type": "code",
   "execution_count": 1,
   "id": "b18385ee",
   "metadata": {},
   "outputs": [
    {
     "name": "stdout",
     "output_type": "stream",
     "text": [
      "first: asid\n",
      "second: abidva\n",
      "aid\n"
     ]
    }
   ],
   "source": [
    "s1 = input('first: ')\n",
    "s2 = input('second: ')\n",
    "turns = min(len(s1), len(s2))\n",
    "result = ''\n",
    "for i in range(turns):\n",
    "    if s1[i] == s2[i]:\n",
    "        result = result + s1[i]\n",
    "print('\\n', result)"
   ]
  },
  {
   "cell_type": "code",
   "execution_count": 5,
   "id": "15c4c408",
   "metadata": {},
   "outputs": [
    {
     "name": "stdout",
     "output_type": "stream",
     "text": [
      "number - 12\n",
      "\n",
      "answer - 46080\n"
     ]
    }
   ],
   "source": [
    "num = int(input('number - '))\n",
    "ans = 1\n",
    "while num >= 2:\n",
    "    ans *= num\n",
    "    num -= 2\n",
    "print('\\nanswer -', ans)"
   ]
  },
  {
   "cell_type": "code",
   "execution_count": 7,
   "id": "dee5cce9",
   "metadata": {},
   "outputs": [
    {
     "name": "stdout",
     "output_type": "stream",
     "text": [
      "number - 12\n",
      "\n",
      "answer - 46080\n"
     ]
    }
   ],
   "source": [
    "num = int(input('number - '))\n",
    "ans = 1\n",
    "for i in range(num, 0, -2):\n",
    "    ans *= i\n",
    "print('\\nanswer -', ans)"
   ]
  },
  {
   "cell_type": "code",
   "execution_count": 9,
   "id": "52931259",
   "metadata": {},
   "outputs": [
    {
     "name": "stdout",
     "output_type": "stream",
     "text": [
      "a, b - -41 89\n",
      "2 3 5 7 11 13 17 19 23 29 31 37 41 43 47 53 59 61 67 71 73 79 83 89\n"
     ]
    }
   ],
   "source": [
    "a, b = map(int, input('a, b - ').split())\n",
    "ans = []\n",
    "for i in range(max(a, 2), max(b, 0) + 1):\n",
    "    if i not in [2,3]:\n",
    "        start, end = 2, int(i**0.5) + 1\n",
    "        for j in range(start, end):\n",
    "            if i % j == 0:\n",
    "                break\n",
    "        else:\n",
    "            ans.append(i)\n",
    "    else:\n",
    "        ans.append(i)\n",
    "print(*ans)"
   ]
  },
  {
   "cell_type": "code",
   "execution_count": 2,
   "id": "87339b15",
   "metadata": {},
   "outputs": [
    {
     "name": "stdout",
     "output_type": "stream",
     "text": [
      "123\n",
      "Too early in the dictionary. Try again!\n",
      "AD\n",
      "Too early in the dictionary. Try again!\n",
      "ad\n",
      "______________ad______________\n"
     ]
    }
   ],
   "source": [
    "s = input()\n",
    "while s != 'STOP':\n",
    "    if s != '':\n",
    "        for i in s:\n",
    "            if ord(i) < ord('a'):\n",
    "                print('Too early in the dictionary. Try again!')\n",
    "                break\n",
    "        else:\n",
    "            print('{:_^30}'.format(s))\n",
    "            break\n",
    "    s = input()\n",
    "else:\n",
    "    print('Program interrupted by user')"
   ]
  },
  {
   "cell_type": "code",
   "execution_count": 3,
   "id": "063a894b",
   "metadata": {},
   "outputs": [
    {
     "name": "stdout",
     "output_type": "stream",
     "text": [
      "Hello world!\n",
      "Hell !\n"
     ]
    }
   ],
   "source": [
    "s = input()\n",
    "l = len(s)\n",
    "ans = ''\n",
    "for i in range(l):\n",
    "    if l % (i + 1) == 0:\n",
    "        ans = ans + s[i]\n",
    "print(ans)"
   ]
  },
  {
   "cell_type": "code",
   "execution_count": 11,
   "id": "325b737a",
   "metadata": {},
   "outputs": [
    {
     "name": "stdout",
     "output_type": "stream",
     "text": [
      "Hello world!\n",
      "herd\n",
      "1 символ найден в строке поиска: Herd\n",
      "2 символ найден в строке поиска: hErd\n",
      "9 символ найден в строке поиска: heRd\n",
      "11 символ найден в строке поиска: herD\n"
     ]
    }
   ],
   "source": [
    "str1 = input()\n",
    "str2 = input()\n",
    "str1 = str1.lower()\n",
    "str2 = str2.lower()\n",
    "set1 = set(i for i in str1)\n",
    "set2 = set(i for i in str2)\n",
    "sethigh = set1 & set2\n",
    "for i in range(len(str1)):\n",
    "    if str1[i] in sethigh:\n",
    "        print(f'{i + 1} символ найден в строке поиска: {str2[:str2.index(str1[i])]+str1[i].upper()+str2[str2.index(str1[i]) + 1:]}')"
   ]
  },
  {
   "cell_type": "code",
   "execution_count": null,
   "id": "09dc1285",
   "metadata": {},
   "outputs": [],
   "source": []
  }
 ],
 "metadata": {
  "kernelspec": {
   "display_name": "Python 3 (ipykernel)",
   "language": "python",
   "name": "python3"
  },
  "language_info": {
   "codemirror_mode": {
    "name": "ipython",
    "version": 3
   },
   "file_extension": ".py",
   "mimetype": "text/x-python",
   "name": "python",
   "nbconvert_exporter": "python",
   "pygments_lexer": "ipython3",
   "version": "3.11.5"
  }
 },
 "nbformat": 4,
 "nbformat_minor": 5
}
