{
 "cells": [
  {
   "cell_type": "code",
   "execution_count": null,
   "id": "a573fb31",
   "metadata": {},
   "outputs": [],
   "source": [
    "l1 = ['1', '123', '123', '12', '1', '123']\n",
    "l2 = [2, 4, -2, -3, 0 , 11 , 3, -1]\n",
    "\n",
    "d4 = {1: 10, 2: 20, 3: 30, 4: 40, 5: 50, 6: 60}\n",
    "d5 = {'a': 3, 'b': 4, 'c': 5, 'd': 6, 'e': 7, 'f': 8, 'g': 9}\n",
    "d6 = {'e': 20, 'f': 21, 'g': 22, 'h': 23, 'i': 24, 'j': 25, 'k': 26, 'l': 27}"
   ]
  },
  {
   "cell_type": "markdown",
   "id": "5e333652",
   "metadata": {},
   "source": [
    "1) Используя список l1, создать список, в котором каждый элемент списка l1 будет заменен значением длины строки соответствующего элемента в списке l1. Использовать генераторы, решить задачу в одну строку."
   ]
  },
  {
   "cell_type": "code",
   "execution_count": 1,
   "id": "5b5a0b57",
   "metadata": {},
   "outputs": [
    {
     "name": "stdout",
     "output_type": "stream",
     "text": [
      "[1, 3, 3, 2, 1, 3]\n"
     ]
    }
   ],
   "source": [
    "l1 = ['1', '123', '123', '12', '1', '123']\n",
    "l = [len(i) for i in l1]\n",
    "print(l)"
   ]
  },
  {
   "cell_type": "markdown",
   "id": "67adc406",
   "metadata": {},
   "source": [
    "2) Подсчитать количество строк в списке l1, длина которых больше 2х. Использовать генераторы, решить задачу в одну строку."
   ]
  },
  {
   "cell_type": "code",
   "execution_count": 2,
   "id": "ba44aaec",
   "metadata": {},
   "outputs": [
    {
     "name": "stdout",
     "output_type": "stream",
     "text": [
      "3\n"
     ]
    }
   ],
   "source": [
    "l1 = ['1', '123', '123', '12', '1', '123']\n",
    "l = len([i for i in l1 if len(i) > 2])\n",
    "print(l)"
   ]
  },
  {
   "cell_type": "markdown",
   "id": "d0239785",
   "metadata": {},
   "source": [
    "3) Создать список, в котором все числа списка l2 умножены на их номер в списке. Использовать генераторы, решить задачу в одну строку."
   ]
  },
  {
   "cell_type": "code",
   "execution_count": 3,
   "id": "e7b0933f",
   "metadata": {},
   "outputs": [
    {
     "name": "stdout",
     "output_type": "stream",
     "text": [
      "[2, 8, -6, -12, 0, 66, 21, -8]\n"
     ]
    }
   ],
   "source": [
    "l2 = [2, 4, -2, -3, 0 , 11 , 3, -1]\n",
    "l = [l2[i] * (i + 1) for i in range(len(l2))]\n",
    "print(l)"
   ]
  },
  {
   "cell_type": "markdown",
   "id": "c1166ba9",
   "metadata": {},
   "source": [
    "4) Создать список, в котором все отрицательные числа списка l2 исключены, остальные элементы сохранены на своих местах. Использовать генераторы, решить задачу в одну строку."
   ]
  },
  {
   "cell_type": "code",
   "execution_count": 4,
   "id": "0b72d840",
   "metadata": {},
   "outputs": [
    {
     "name": "stdout",
     "output_type": "stream",
     "text": [
      "[2, 4, 0, 11, 3]\n"
     ]
    }
   ],
   "source": [
    "l2 = [2, 4, -2, -3, 0 , 11 , 3, -1]\n",
    "l = [i for i in l2 if i >= 0]\n",
    "print(l)"
   ]
  },
  {
   "cell_type": "markdown",
   "id": "bf2daf5e",
   "metadata": {},
   "source": [
    "5) Создать список, в котором все отрицательные числа списка l2 заменены на их номер в списке, остальные элементы сохранены на своих местах. Использовать генераторы и тернарный оператор, решить задачу в одну строку."
   ]
  },
  {
   "cell_type": "code",
   "execution_count": 12,
   "id": "dbee574f",
   "metadata": {},
   "outputs": [
    {
     "name": "stdout",
     "output_type": "stream",
     "text": [
      "[2, 4, 3, 4, 0, 11, 3, 8]\n"
     ]
    }
   ],
   "source": [
    "l2 = [2, 4, -2, -3, 0 , 11 , 3, -1]\n",
    "l = [l2[i] if l2[i] >= 0 else i + 1 for i in range(len(l2))]\n",
    "print(l)"
   ]
  },
  {
   "cell_type": "markdown",
   "id": "b97446f4",
   "metadata": {},
   "source": [
    "6) На основе переданной строки (не содержащей повторяющихся символов) создать словарь, в котором каждому символу строки будет соответствовать номер символа в строке. Использовать генераторы, решить задачу в одну строку. Пример: строка 'abcdef', словарь {'a': 1, 'b': 2, 'c': 3, 'd': 4}"
   ]
  },
  {
   "cell_type": "code",
   "execution_count": 17,
   "id": "b15d472d",
   "metadata": {},
   "outputs": [
    {
     "name": "stdout",
     "output_type": "stream",
     "text": [
      "{'a': 1, 'b': 2, 'c': 3, 'd': 4, 'e': 5, 'f': 6}\n"
     ]
    }
   ],
   "source": [
    "s = 'abcdef'\n",
    "l = {i: s.index(i) + 1 for i in s}\n",
    "print(l)"
   ]
  },
  {
   "cell_type": "markdown",
   "id": "0eccb2b4",
   "metadata": {},
   "source": [
    "7) Определить, сколько элементов заданного списка содержится в словаре. Использовать генераторы, решить задачу в одну строку. Пример: определить сколько элементов списка l1 содержится в словаре d1. (ответ: 2)"
   ]
  },
  {
   "cell_type": "code",
   "execution_count": 18,
   "id": "d4406de5",
   "metadata": {},
   "outputs": [
    {
     "name": "stdout",
     "output_type": "stream",
     "text": [
      "1\n"
     ]
    }
   ],
   "source": [
    "l1 = ['1', '123', '123', '12', '1', '123']\n",
    "d1 = {1: '2', 2: '12', 3: '122'}\n",
    "s = len([i for i in l1 if i in d1.values()])\n",
    "print(s)"
   ]
  },
  {
   "cell_type": "markdown",
   "id": "3dabcd81",
   "metadata": {},
   "source": [
    "8) Для строки evgene_o создать словарь, где для всех символов, встречающихся в строке, хранится число: сколько раз символ встретился в строке evgene_o. Использовать генераторы, решить задачу в одну строку."
   ]
  },
  {
   "cell_type": "code",
   "execution_count": 20,
   "id": "9e26e7da",
   "metadata": {},
   "outputs": [
    {
     "name": "stdout",
     "output_type": "stream",
     "text": [
      "{'e': 3, 'v': 1, 'g': 1, 'n': 1, '_': 1, 'o': 1}\n"
     ]
    }
   ],
   "source": [
    "s = 'evgene_o'\n",
    "d = {i: s.count(i) for i in s}\n",
    "print(d)"
   ]
  },
  {
   "cell_type": "markdown",
   "id": "feffa4e7",
   "metadata": {},
   "source": [
    "9) Используя словарь, полученный в предыдущей задаче, подсчитать количество строчных букв в строке evgene_o. Использовать генераторы, решить задачу в одну строку."
   ]
  },
  {
   "cell_type": "code",
   "execution_count": 22,
   "id": "fac185e1",
   "metadata": {},
   "outputs": [
    {
     "name": "stdout",
     "output_type": "stream",
     "text": [
      "7\n"
     ]
    }
   ],
   "source": [
    "s = 'evgene_o'\n",
    "c = len([i for i in s if i.islower()])\n",
    "print(c)"
   ]
  },
  {
   "cell_type": "markdown",
   "id": "521dabaf",
   "metadata": {},
   "source": [
    "10) Просуммировать произведения ключей словаря d4 на соответствующие им значения. Использовать генераторы, решить задачу в одну строку."
   ]
  },
  {
   "cell_type": "code",
   "execution_count": 32,
   "id": "82876eed",
   "metadata": {},
   "outputs": [
    {
     "name": "stdout",
     "output_type": "stream",
     "text": [
      "910\n"
     ]
    }
   ],
   "source": [
    "d4 = {1: 10, 2: 20, 3: 30, 4: 40, 5: 50, 6: 60}\n",
    "a = sum([d4[i] * i for i in d4.keys()])\n",
    "\n",
    "print(a)"
   ]
  },
  {
   "cell_type": "markdown",
   "id": "80a1f8b0",
   "metadata": {},
   "source": [
    "11) На базе словаря d6 создать словарь d7, в котором нет пар ключ-значение с ключами, встречающимися в словаре d5. Использовать генераторы, решить задачу в одну строку."
   ]
  },
  {
   "cell_type": "code",
   "execution_count": 34,
   "id": "23e9c2a1",
   "metadata": {},
   "outputs": [
    {
     "name": "stdout",
     "output_type": "stream",
     "text": [
      "{'h': 23, 'i': 24, 'j': 25, 'k': 26, 'l': 27}\n"
     ]
    }
   ],
   "source": [
    "d5 = {'a': 3, 'b': 4, 'c': 5, 'd': 6, 'e': 7, 'f': 8, 'g': 9}\n",
    "d6 = {'e': 20, 'f': 21, 'g': 22, 'h': 23, 'i': 24, 'j': 25, 'k': 26, 'l': 27}\n",
    "d7 = {i: d6[i] for i in d6.keys() if i not in d5.keys()}\n",
    "print(d7)"
   ]
  },
  {
   "cell_type": "markdown",
   "id": "c3a65ecb",
   "metadata": {},
   "source": [
    "12) Создать словарь d8, в котором есть все пары ключ-значения из d5, а для ключей, которые есть в d6, но отсутствуют в d5, добавить соответствующие пары ключ-значения в d8. Использовать генераторы, решить задачу в одну строку."
   ]
  },
  {
   "cell_type": "markdown",
   "id": "8816865d",
   "metadata": {},
   "source": [
    "13) В словаре, полученном в задаче со стихотворением, удалить все пары ключ-значение для символов, встречающихся менее 5 раз. Использовать генераторы, решить задачу в одну строку"
   ]
  },
  {
   "cell_type": "code",
   "execution_count": 36,
   "id": "3e9f2dc5",
   "metadata": {},
   "outputs": [
    {
     "name": "stdout",
     "output_type": "stream",
     "text": [
      "{'j': 8}\n"
     ]
    }
   ],
   "source": [
    "s = 'adihfiujjjjhdkjsfjjawjmfamsfm'\n",
    "d = {i: s.count(i) for i in s if s.count(i) >= 5}\n",
    "print(d)"
   ]
  },
  {
   "cell_type": "markdown",
   "id": "968320d5",
   "metadata": {},
   "source": [
    "0 .. 999"
   ]
  },
  {
   "cell_type": "code",
   "execution_count": 25,
   "id": "cd5e3632",
   "metadata": {},
   "outputs": [
    {
     "name": "stdout",
     "output_type": "stream",
     "text": [
      "один\n",
      "<enumerate object at 0x0000023B8D9278C0>\n"
     ]
    }
   ],
   "source": []
  },
  {
   "cell_type": "code",
   "execution_count": null,
   "id": "692d5f0e",
   "metadata": {},
   "outputs": [],
   "source": []
  }
 ],
 "metadata": {
  "kernelspec": {
   "display_name": "Python 3 (ipykernel)",
   "language": "python",
   "name": "python3"
  },
  "language_info": {
   "codemirror_mode": {
    "name": "ipython",
    "version": 3
   },
   "file_extension": ".py",
   "mimetype": "text/x-python",
   "name": "python",
   "nbconvert_exporter": "python",
   "pygments_lexer": "ipython3",
   "version": "3.10.9"
  }
 },
 "nbformat": 4,
 "nbformat_minor": 5
}
